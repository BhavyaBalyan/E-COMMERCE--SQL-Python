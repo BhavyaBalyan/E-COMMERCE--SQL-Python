{
 "cells": [
  {
   "cell_type": "code",
   "execution_count": 11,
   "id": "fc41c6ab-cdb0-4de2-a777-2972e5c2c228",
   "metadata": {},
   "outputs": [
    {
     "name": "stdout",
     "output_type": "stream",
     "text": [
      "Processing customers.csv\n",
      "NaN values before replacement:\n",
      "customer_id                 0\n",
      "customer_unique_id          0\n",
      "customer_zip_code_prefix    0\n",
      "customer_city               0\n",
      "customer_state              0\n",
      "dtype: int64\n",
      "\n",
      "Processing orders.csv\n",
      "NaN values before replacement:\n",
      "order_id                            0\n",
      "customer_id                         0\n",
      "order_status                        0\n",
      "order_purchase_timestamp            0\n",
      "order_approved_at                 160\n",
      "order_delivered_carrier_date     1783\n",
      "order_delivered_customer_date    2965\n",
      "order_estimated_delivery_date       0\n",
      "dtype: int64\n",
      "\n",
      "Processing sellers.csv\n",
      "NaN values before replacement:\n",
      "seller_id                 0\n",
      "seller_zip_code_prefix    0\n",
      "seller_city               0\n",
      "seller_state              0\n",
      "dtype: int64\n",
      "\n",
      "Processing products.csv\n",
      "NaN values before replacement:\n",
      "product_id                      0\n",
      "product category              610\n",
      "product_name_length           610\n",
      "product_description_length    610\n",
      "product_photos_qty            610\n",
      "product_weight_g                2\n",
      "product_length_cm               2\n",
      "product_height_cm               2\n",
      "product_width_cm                2\n",
      "dtype: int64\n",
      "\n",
      "Processing geolocation.csv\n",
      "NaN values before replacement:\n",
      "geolocation_zip_code_prefix    0\n",
      "geolocation_lat                0\n",
      "geolocation_lng                0\n",
      "geolocation_city               0\n",
      "geolocation_state              0\n",
      "dtype: int64\n",
      "\n",
      "Processing payments.csv\n",
      "NaN values before replacement:\n",
      "order_id                0\n",
      "payment_sequential      0\n",
      "payment_type            0\n",
      "payment_installments    0\n",
      "payment_value           0\n",
      "dtype: int64\n",
      "\n",
      "Processing order_items.csv\n",
      "NaN values before replacement:\n",
      "order_id               0\n",
      "order_item_id          0\n",
      "product_id             0\n",
      "seller_id              0\n",
      "shipping_limit_date    0\n",
      "price                  0\n",
      "freight_value          0\n",
      "dtype: int64\n",
      "\n"
     ]
    }
   ],
   "source": [
    "import pandas as pd\n",
    "import mysql.connector\n",
    "import os\n",
    "\n",
    "# List of CSV files and their corresponding table names\n",
    "csv_files = [\n",
    "    ('customers.csv', 'customers'),\n",
    "    ('orders.csv', 'orders'),\n",
    "    ('sellers.csv', 'sellers'),\n",
    "    ('products.csv', 'products'),\n",
    "    ('geolocation.csv', 'geolocation'),\n",
    "    ('payments.csv', 'payments'),\n",
    "    ('order_items.csv', 'order_items' )# Added payments.csv for specific handling\n",
    "]\n",
    "\n",
    "# Connect to the MySQL database\n",
    "conn = mysql.connector.connect(\n",
    "    host='localhost',\n",
    "    user='root',\n",
    "    password='Bhavya1234@',\n",
    "    database='ecommerce'\n",
    ")\n",
    "cursor = conn.cursor()\n",
    "\n",
    "# Folder containing the CSV files\n",
    "folder_path = 'C:/Users/Mukul/Desktop/Ecommerce'\n",
    "\n",
    "def get_sql_type(dtype):\n",
    "    if pd.api.types.is_integer_dtype(dtype):\n",
    "        return 'INT'\n",
    "    elif pd.api.types.is_float_dtype(dtype):\n",
    "        return 'FLOAT'\n",
    "    elif pd.api.types.is_bool_dtype(dtype):\n",
    "        return 'BOOLEAN'\n",
    "    elif pd.api.types.is_datetime64_any_dtype(dtype):\n",
    "        return 'DATETIME'\n",
    "    else:\n",
    "        return 'TEXT'\n",
    "\n",
    "for csv_file, table_name in csv_files:\n",
    "    file_path = os.path.join(folder_path, csv_file)\n",
    "    \n",
    "    # Read the CSV file into a pandas DataFrame\n",
    "    df = pd.read_csv(file_path)\n",
    "    \n",
    "    # Replace NaN with None to handle SQL NULL\n",
    "    df = df.where(pd.notnull(df), None)\n",
    "    \n",
    "    # Debugging: Check for NaN values\n",
    "    print(f\"Processing {csv_file}\")\n",
    "    print(f\"NaN values before replacement:\\n{df.isnull().sum()}\\n\")\n",
    "\n",
    "    # Clean column names\n",
    "    df.columns = [col.replace(' ', '_').replace('-', '_').replace('.', '_') for col in df.columns]\n",
    "\n",
    "    # Generate the CREATE TABLE statement with appropriate data types\n",
    "    columns = ', '.join([f'`{col}` {get_sql_type(df[col].dtype)}' for col in df.columns])\n",
    "    create_table_query = f'CREATE TABLE IF NOT EXISTS `{table_name}` ({columns})'\n",
    "    cursor.execute(create_table_query)\n",
    "\n",
    "    # Insert DataFrame data into the MySQL table\n",
    "    for _, row in df.iterrows():\n",
    "        # Convert row to tuple and handle NaN/None explicitly\n",
    "        values = tuple(None if pd.isna(x) else x for x in row)\n",
    "        sql = f\"INSERT INTO `{table_name}` ({', '.join(['`' + col + '`' for col in df.columns])}) VALUES ({', '.join(['%s'] * len(row))})\"\n",
    "        cursor.execute(sql, values)\n",
    "\n",
    "    # Commit the transaction for the current CSV file\n",
    "    conn.commit()\n",
    "\n",
    "# Close the connection\n",
    "conn.close()"
   ]
  },
  {
   "cell_type": "code",
   "execution_count": 119,
   "id": "057ee22e-42ba-43ae-8a0f-bc0db48c33d3",
   "metadata": {},
   "outputs": [],
   "source": [
    "import matplotlib.pyplot as plt\n",
    "import seaborn as sns"
   ]
  },
  {
   "cell_type": "code",
   "execution_count": 121,
   "id": "5c03cece-e557-48db-a152-fc86fdd9c98f",
   "metadata": {},
   "outputs": [],
   "source": [
    "conn = mysql.connector.connect(\n",
    "    host='localhost',\n",
    "    user='root',\n",
    "    password='Bhavya1234@',\n",
    "    database='ecommerce'\n",
    ")\n",
    "\n",
    "cur =  conn.cursor()\n"
   ]
  },
  {
   "cell_type": "markdown",
   "id": "92f2c3cd-5d90-4ce0-9aa0-cb16850183e8",
   "metadata": {},
   "source": [
    "# List all unique cities where customers are located "
   ]
  },
  {
   "cell_type": "code",
   "execution_count": 145,
   "id": "a86ac8cf-3914-435c-98d6-a735870b0f66",
   "metadata": {},
   "outputs": [
    {
     "data": {
      "text/html": [
       "<div>\n",
       "<style scoped>\n",
       "    .dataframe tbody tr th:only-of-type {\n",
       "        vertical-align: middle;\n",
       "    }\n",
       "\n",
       "    .dataframe tbody tr th {\n",
       "        vertical-align: top;\n",
       "    }\n",
       "\n",
       "    .dataframe thead th {\n",
       "        text-align: right;\n",
       "    }\n",
       "</style>\n",
       "<table border=\"1\" class=\"dataframe\">\n",
       "  <thead>\n",
       "    <tr style=\"text-align: right;\">\n",
       "      <th></th>\n",
       "      <th>0</th>\n",
       "    </tr>\n",
       "  </thead>\n",
       "  <tbody>\n",
       "    <tr>\n",
       "      <th>0</th>\n",
       "      <td>franca</td>\n",
       "    </tr>\n",
       "    <tr>\n",
       "      <th>1</th>\n",
       "      <td>sao bernardo do campo</td>\n",
       "    </tr>\n",
       "    <tr>\n",
       "      <th>2</th>\n",
       "      <td>sao paulo</td>\n",
       "    </tr>\n",
       "    <tr>\n",
       "      <th>3</th>\n",
       "      <td>mogi das cruzes</td>\n",
       "    </tr>\n",
       "    <tr>\n",
       "      <th>4</th>\n",
       "      <td>campinas</td>\n",
       "    </tr>\n",
       "  </tbody>\n",
       "</table>\n",
       "</div>"
      ],
      "text/plain": [
       "                       0\n",
       "0                 franca\n",
       "1  sao bernardo do campo\n",
       "2              sao paulo\n",
       "3        mogi das cruzes\n",
       "4               campinas"
      ]
     },
     "execution_count": 145,
     "metadata": {},
     "output_type": "execute_result"
    }
   ],
   "source": [
    "query = \"\"\"SELECT DISTINCT customer_city FROM customers\"\"\"\n",
    "\n",
    "cur.execute(query)\n",
    "\n",
    "data = cur.fetchall()\n",
    "df = pd.DataFrame(data)\n",
    "df.head(5)"
   ]
  },
  {
   "cell_type": "markdown",
   "id": "61064422-6f5a-46a5-a5a4-56aa5bed31ba",
   "metadata": {},
   "source": [
    "# Count the number of orders placed in 2017"
   ]
  },
  {
   "cell_type": "code",
   "execution_count": 54,
   "id": "3375b6dd-1706-42f4-93b2-4b540a7adfc7",
   "metadata": {},
   "outputs": [
    {
     "data": {
      "text/plain": [
       "('total orders placed in 2017 are', [(90202,)])"
      ]
     },
     "execution_count": 54,
     "metadata": {},
     "output_type": "execute_result"
    }
   ],
   "source": [
    "query = \"\"\"SELECT COUNT(order_id) FROM orders WHERE year(order_purchase_timestamp) = 2017\"\"\"\n",
    "\n",
    "cur.execute(query)\n",
    "\n",
    "data = cur.fetchall()\n",
    "\n",
    "\"total orders placed in 2017 are\" , data"
   ]
  },
  {
   "cell_type": "markdown",
   "id": "ffddb055-29e2-451b-a71a-3c8f9c7ee367",
   "metadata": {},
   "source": [
    "# Find the total sales per category."
   ]
  },
  {
   "cell_type": "code",
   "execution_count": 97,
   "id": "020e4213-2a61-470c-85a8-849f189810b0",
   "metadata": {},
   "outputs": [
    {
     "data": {
      "text/html": [
       "<div>\n",
       "<style scoped>\n",
       "    .dataframe tbody tr th:only-of-type {\n",
       "        vertical-align: middle;\n",
       "    }\n",
       "\n",
       "    .dataframe tbody tr th {\n",
       "        vertical-align: top;\n",
       "    }\n",
       "\n",
       "    .dataframe thead th {\n",
       "        text-align: right;\n",
       "    }\n",
       "</style>\n",
       "<table border=\"1\" class=\"dataframe\">\n",
       "  <thead>\n",
       "    <tr style=\"text-align: right;\">\n",
       "      <th></th>\n",
       "      <th>Category</th>\n",
       "      <th>Sales</th>\n",
       "    </tr>\n",
       "  </thead>\n",
       "  <tbody>\n",
       "    <tr>\n",
       "      <th>0</th>\n",
       "      <td>perfumery</td>\n",
       "      <td>4053909.28</td>\n",
       "    </tr>\n",
       "    <tr>\n",
       "      <th>1</th>\n",
       "      <td>Furniture Decoration</td>\n",
       "      <td>11441411.13</td>\n",
       "    </tr>\n",
       "    <tr>\n",
       "      <th>2</th>\n",
       "      <td>telephony</td>\n",
       "      <td>3895056.41</td>\n",
       "    </tr>\n",
       "    <tr>\n",
       "      <th>3</th>\n",
       "      <td>bed table bath</td>\n",
       "      <td>13700429.37</td>\n",
       "    </tr>\n",
       "    <tr>\n",
       "      <th>4</th>\n",
       "      <td>automotive</td>\n",
       "      <td>6818354.65</td>\n",
       "    </tr>\n",
       "    <tr>\n",
       "      <th>...</th>\n",
       "      <td>...</td>\n",
       "      <td>...</td>\n",
       "    </tr>\n",
       "    <tr>\n",
       "      <th>69</th>\n",
       "      <td>cds music dvds</td>\n",
       "      <td>9595.44</td>\n",
       "    </tr>\n",
       "    <tr>\n",
       "      <th>70</th>\n",
       "      <td>La Cuisine</td>\n",
       "      <td>23308.24</td>\n",
       "    </tr>\n",
       "    <tr>\n",
       "      <th>71</th>\n",
       "      <td>Fashion Children's Clothing</td>\n",
       "      <td>6285.36</td>\n",
       "    </tr>\n",
       "    <tr>\n",
       "      <th>72</th>\n",
       "      <td>PC Gamer</td>\n",
       "      <td>17395.44</td>\n",
       "    </tr>\n",
       "    <tr>\n",
       "      <th>73</th>\n",
       "      <td>insurance and services</td>\n",
       "      <td>2596.08</td>\n",
       "    </tr>\n",
       "  </tbody>\n",
       "</table>\n",
       "<p>74 rows × 2 columns</p>\n",
       "</div>"
      ],
      "text/plain": [
       "                       Category        Sales\n",
       "0                     perfumery   4053909.28\n",
       "1          Furniture Decoration  11441411.13\n",
       "2                     telephony   3895056.41\n",
       "3                bed table bath  13700429.37\n",
       "4                    automotive   6818354.65\n",
       "..                          ...          ...\n",
       "69               cds music dvds      9595.44\n",
       "70                   La Cuisine     23308.24\n",
       "71  Fashion Children's Clothing      6285.36\n",
       "72                     PC Gamer     17395.44\n",
       "73       insurance and services      2596.08\n",
       "\n",
       "[74 rows x 2 columns]"
      ]
     },
     "execution_count": 97,
     "metadata": {},
     "output_type": "execute_result"
    }
   ],
   "source": [
    "query = \"\"\"SELECT products.product_category category,\n",
    "ROUND(sum(payments.payment_value),2) sales\n",
    "FROM products JOIN order_items\n",
    "ON products.product_id = order_items.product_id\n",
    "JOIN payments\n",
    "ON payments.order_id = order_items.order_id\n",
    "GROUP BY category\"\"\"\n",
    "\n",
    "cur.execute(query)\n",
    "\n",
    "data = cur.fetchall()\n",
    "\n",
    "df = pd.DataFrame(data, columns = [\"Category\" , \"Sales\"])\n",
    "df"
   ]
  },
  {
   "cell_type": "markdown",
   "id": "366f380b-2b8e-442a-921d-c9d9263d016e",
   "metadata": {},
   "source": [
    "# Calculate the percentage of orders that were paid in installments."
   ]
  },
  {
   "cell_type": "code",
   "execution_count": 106,
   "id": "813b2f44-59e2-44f4-8b1d-5ee3e8308666",
   "metadata": {},
   "outputs": [
    {
     "data": {
      "text/plain": [
       "('the percentage of orders that were paid in installments is',\n",
       " [(Decimal('49.4176'),)])"
      ]
     },
     "execution_count": 106,
     "metadata": {},
     "output_type": "execute_result"
    }
   ],
   "source": [
    "query = \"\"\"SELECT (sum(case when payment_installments > 1 then 1\n",
    "else 0 end)) / count(*)*100 \n",
    "FROM payments\"\"\"\n",
    "\n",
    "cur.execute(query)\n",
    "\n",
    "data = cur.fetchall()\n",
    "\n",
    "\"the percentage of orders that were paid in installments is\" , data"
   ]
  },
  {
   "cell_type": "markdown",
   "id": "b65673b7-53f8-4f09-9c7e-119219ca8baf",
   "metadata": {},
   "source": [
    "# Count the number of customers from each state"
   ]
  },
  {
   "cell_type": "code",
   "execution_count": 143,
   "id": "c70e863c-39b4-41d8-85ca-f5183adc2c5b",
   "metadata": {},
   "outputs": [
    {
     "data": {
      "image/png": "[encoded data removed]",
      "text/plain": [
       "<Figure size 800x300 with 1 Axes>"
      ]
     },
     "metadata": {},
     "output_type": "display_data"
    }
   ],
   "source": [
    "query = \"\"\"SELECT customer_state , count(customer_id)\n",
    "FROM customers\n",
    "group by customer_state\"\"\"\n",
    "\n",
    "cur.execute(query)\n",
    "\n",
    "data = cur.fetchall()\n",
    "\n",
    "df = pd.DataFrame(data, columns = [\"state\", \"total_customer\" ])\n",
    "plt.figure(figsize = (8,3))\n",
    "plt.bar(df[\"state\"] , df[\"total_customer\"])\n",
    "\n",
    "plt.xticks(rotation = 90)\n",
    "plt.show()"
   ]
  },
  {
   "cell_type": "markdown",
   "id": "98db66b9-d259-4ca7-ba90-db132065ca7b",
   "metadata": {},
   "source": [
    "#  Calculate the number of orders per month in 2018."
   ]
  },
  {
   "cell_type": "code",
   "execution_count": 172,
   "id": "b8e67f42-4d04-4a7d-adf2-ea8cc93a0a0c",
   "metadata": {},
   "outputs": [
    {
     "data": {
      "image/png": "[encoded data removed]",
      "text/plain": [
       "<Figure size 640x480 with 1 Axes>"
      ]
     },
     "metadata": {},
     "output_type": "display_data"
    }
   ],
   "source": [
    "query = \"\"\"SELECT monthname(order_purchase_timestamp) AS months, count(order_id) AS order_count\n",
    "FROM orders \n",
    "WHERE year(order_purchase_timestamp) = 2018\n",
    "GROUP BY months\"\"\"\n",
    "\n",
    "cur.execute(query)\n",
    "\n",
    "data = cur.fetchall()\n",
    "\n",
    "# Convert data to DataFrame and assign column names\n",
    "df = pd.DataFrame(data, columns=[\"months\", \"order_count\"])\n",
    "\n",
    "# Plot using corrected column names\n",
    "plt.bar(df[\"months\"], df[\"order_count\"])\n",
    "plt.xlabel(\"Months\")\n",
    "plt.ylabel(\"Order Count\")\n",
    "plt.title(\"Orders per Month (2018)\")\n",
    "plt.xticks(rotation=45)  # Rotate x-axis labels for readability\n",
    "plt.show()\n"
   ]
  },
  {
   "cell_type": "markdown",
   "id": "c0e0cda6-2822-4c15-8930-cd2197efd55d",
   "metadata": {},
   "source": [
    "# Find the average number of products per order, grouped by customer city."
   ]
  },
  {
   "cell_type": "code",
   "execution_count": 203,
   "id": "1bee767d-b582-4a48-997b-1d0429c24048",
   "metadata": {},
   "outputs": [
    {
     "data": {
      "text/html": [
       "<div>\n",
       "<style scoped>\n",
       "    .dataframe tbody tr th:only-of-type {\n",
       "        vertical-align: middle;\n",
       "    }\n",
       "\n",
       "    .dataframe tbody tr th {\n",
       "        vertical-align: top;\n",
       "    }\n",
       "\n",
       "    .dataframe thead th {\n",
       "        text-align: right;\n",
       "    }\n",
       "</style>\n",
       "<table border=\"1\" class=\"dataframe\">\n",
       "  <thead>\n",
       "    <tr style=\"text-align: right;\">\n",
       "      <th></th>\n",
       "      <th>customer_city</th>\n",
       "      <th>average_products/order</th>\n",
       "    </tr>\n",
       "  </thead>\n",
       "  <tbody>\n",
       "    <tr>\n",
       "      <th>0</th>\n",
       "      <td>padre carvalho</td>\n",
       "      <td>28.00</td>\n",
       "    </tr>\n",
       "    <tr>\n",
       "      <th>1</th>\n",
       "      <td>celso ramos</td>\n",
       "      <td>26.00</td>\n",
       "    </tr>\n",
       "    <tr>\n",
       "      <th>2</th>\n",
       "      <td>datas</td>\n",
       "      <td>24.00</td>\n",
       "    </tr>\n",
       "    <tr>\n",
       "      <th>3</th>\n",
       "      <td>candido godoi</td>\n",
       "      <td>24.00</td>\n",
       "    </tr>\n",
       "    <tr>\n",
       "      <th>4</th>\n",
       "      <td>matias olimpio</td>\n",
       "      <td>20.00</td>\n",
       "    </tr>\n",
       "    <tr>\n",
       "      <th>5</th>\n",
       "      <td>cidelandia</td>\n",
       "      <td>16.00</td>\n",
       "    </tr>\n",
       "    <tr>\n",
       "      <th>6</th>\n",
       "      <td>curralinho</td>\n",
       "      <td>16.00</td>\n",
       "    </tr>\n",
       "    <tr>\n",
       "      <th>7</th>\n",
       "      <td>picarra</td>\n",
       "      <td>16.00</td>\n",
       "    </tr>\n",
       "    <tr>\n",
       "      <th>8</th>\n",
       "      <td>morro de sao paulo</td>\n",
       "      <td>16.00</td>\n",
       "    </tr>\n",
       "    <tr>\n",
       "      <th>9</th>\n",
       "      <td>teixeira soares</td>\n",
       "      <td>16.00</td>\n",
       "    </tr>\n",
       "  </tbody>\n",
       "</table>\n",
       "</div>"
      ],
      "text/plain": [
       "        customer_city average_products/order\n",
       "0      padre carvalho                  28.00\n",
       "1         celso ramos                  26.00\n",
       "2               datas                  24.00\n",
       "3       candido godoi                  24.00\n",
       "4      matias olimpio                  20.00\n",
       "5          cidelandia                  16.00\n",
       "6          curralinho                  16.00\n",
       "7             picarra                  16.00\n",
       "8  morro de sao paulo                  16.00\n",
       "9     teixeira soares                  16.00"
      ]
     },
     "execution_count": 203,
     "metadata": {},
     "output_type": "execute_result"
    }
   ],
   "source": [
    "query = \"\"\"WITH count_per_order as\n",
    "(SELECT orders.order_id, orders.customer_id, count(order_items.order_id) as oc\n",
    "FROM orders\n",
    "JOIN order_items\n",
    "ON orders.order_id = order_items.order_id\n",
    "GROUP BY orders.order_id, orders.customer_id)\n",
    "\n",
    "SELECT customers.customer_city, round(avg(count_per_order.oc),2) average_orders\n",
    "FROM customers JOIN count_per_order\n",
    "ON customers.customer_id = count_per_order.customer_id\n",
    "GROUP BY customers.customer_city order by average_orders desc\n",
    "\"\"\"\n",
    "\n",
    "cur.execute(query)\n",
    "\n",
    "data = cur.fetchall()\n",
    "df = pd.DataFrame(data, columns = [\"customer_city\",\"average_products/order\" ])\n",
    "df.head(10)"
   ]
  },
  {
   "cell_type": "markdown",
   "id": "4cfa2174-6a99-4d9d-b829-3402e6787c76",
   "metadata": {},
   "source": [
    "# Calculate the percentage of total revenue contributed by each product category."
   ]
  },
  {
   "cell_type": "code",
   "execution_count": 21,
   "id": "d49a03a8-2283-4a35-a178-d2add88944b0",
   "metadata": {},
   "outputs": [
    {
     "data": {
      "text/html": [
       "<div>\n",
       "<style scoped>\n",
       "    .dataframe tbody tr th:only-of-type {\n",
       "        vertical-align: middle;\n",
       "    }\n",
       "\n",
       "    .dataframe tbody tr th {\n",
       "        vertical-align: top;\n",
       "    }\n",
       "\n",
       "    .dataframe thead th {\n",
       "        text-align: right;\n",
       "    }\n",
       "</style>\n",
       "<table border=\"1\" class=\"dataframe\">\n",
       "  <thead>\n",
       "    <tr style=\"text-align: right;\">\n",
       "      <th></th>\n",
       "      <th>Category</th>\n",
       "      <th>Percentage distribution</th>\n",
       "    </tr>\n",
       "  </thead>\n",
       "  <tbody>\n",
       "    <tr>\n",
       "      <th>0</th>\n",
       "      <td>BED TABLE BATH</td>\n",
       "      <td>96.28</td>\n",
       "    </tr>\n",
       "    <tr>\n",
       "      <th>1</th>\n",
       "      <td>HEALTH BEAUTY</td>\n",
       "      <td>93.18</td>\n",
       "    </tr>\n",
       "    <tr>\n",
       "      <th>2</th>\n",
       "      <td>COMPUTER ACCESSORIES</td>\n",
       "      <td>89.13</td>\n",
       "    </tr>\n",
       "    <tr>\n",
       "      <th>3</th>\n",
       "      <td>FURNITURE DECORATION</td>\n",
       "      <td>80.40</td>\n",
       "    </tr>\n",
       "    <tr>\n",
       "      <th>4</th>\n",
       "      <td>WATCHES PRESENT</td>\n",
       "      <td>80.35</td>\n",
       "    </tr>\n",
       "    <tr>\n",
       "      <th>5</th>\n",
       "      <td>SPORT LEISURE</td>\n",
       "      <td>78.26</td>\n",
       "    </tr>\n",
       "    <tr>\n",
       "      <th>6</th>\n",
       "      <td>HOUSEWARES</td>\n",
       "      <td>61.55</td>\n",
       "    </tr>\n",
       "  </tbody>\n",
       "</table>\n",
       "</div>"
      ],
      "text/plain": [
       "               Category  Percentage distribution\n",
       "0        BED TABLE BATH                    96.28\n",
       "1         HEALTH BEAUTY                    93.18\n",
       "2  COMPUTER ACCESSORIES                    89.13\n",
       "3  FURNITURE DECORATION                    80.40\n",
       "4       WATCHES PRESENT                    80.35\n",
       "5         SPORT LEISURE                    78.26\n",
       "6            HOUSEWARES                    61.55"
      ]
     },
     "execution_count": 21,
     "metadata": {},
     "output_type": "execute_result"
    }
   ],
   "source": [
    "query = \"\"\"SELECT upper(products.product_category) category,\n",
    "ROUND(sum(payments.payment_value)/(SELECT sum(payment_value) FROM payments)*100,2) sales_percentage\n",
    "FROM products JOIN order_items\n",
    "ON products.product_id = order_items.product_id\n",
    "JOIN payments\n",
    "ON payments.order_id = order_items.order_id\n",
    "GROUP BY category ORDER BY sales_percentage desc\n",
    "\"\"\"\n",
    "\n",
    "cur.execute(query)\n",
    "\n",
    "data = cur.fetchall()\n",
    "\n",
    "df = pd.DataFrame(data, columns = [\"Category\",\"Percentage distribution\"])\n",
    "df.head(7)"
   ]
  },
  {
   "cell_type": "markdown",
   "id": "a8a18dce-504c-4271-89ae-6d65726d4ce6",
   "metadata": {},
   "source": [
    "# Identify the correlation between product price and the number of times a product has been purchased."
   ]
  },
  {
   "cell_type": "code",
   "execution_count": 68,
   "id": "1bb8c384-3446-4f61-8817-730eeb453c32",
   "metadata": {},
   "outputs": [
    {
     "name": "stdout",
     "output_type": "stream",
     "text": [
      "the correlation between product price and the number of times a product has been purchased:\n",
      " [[ 1.         -0.10631552]\n",
      " [-0.10631552  1.        ]]\n"
     ]
    }
   ],
   "source": [
    "import numpy as np\n",
    "import pandas as pd\n",
    "\n",
    "# SQL query to fetch data\n",
    "query = \"\"\"\n",
    "SELECT products.product_category,\n",
    "       AVG(order_items.price) AS price, -- Include price in the query\n",
    "       COUNT(order_items.product_id) AS order_count\n",
    "FROM products\n",
    "JOIN order_items \n",
    "ON products.product_id = order_items.product_id\n",
    "GROUP BY products.product_category\n",
    "\"\"\"\n",
    "\n",
    "# Execute the query\n",
    "cur.execute(query)\n",
    "data = cur.fetchall()\n",
    "\n",
    "# Correct DataFrame creation\n",
    "columns = ['product_category', 'order_count', 'price']\n",
    "df = pd.DataFrame(data, columns=columns)\n",
    "\n",
    "# Extract arrays for correlation\n",
    "arr1 = df[\"order_count\"]\n",
    "arr2 = df[\"price\"]\n",
    "\n",
    "# Calculate correlation coefficient\n",
    "correlation_matrix = np.corrcoef(arr1, arr2)\n",
    "print(\"the correlation between product price and the number of times a product has been purchased:\\n\", correlation_matrix)\n",
    "\n"
   ]
  },
  {
   "cell_type": "markdown",
   "id": "b54285a6-c399-45a1-ab4d-952c5d3520e1",
   "metadata": {},
   "source": [
    "# Calculate the total revenue generated by each seller, and rank them by revenue."
   ]
  },
  {
   "cell_type": "code",
   "execution_count": 123,
   "id": "04e13eaf-8671-4b63-aea9-88148b08438f",
   "metadata": {},
   "outputs": [
    {
     "name": "stdout",
     "output_type": "stream",
     "text": [
      "                          seller_id       revenue  rank_position\n",
      "0  7c67e1448b00f6e969d365cea6b010ab  4.564502e+06              1\n",
      "1  1025f0e2d44d7041d6cf58b6550e0bfa  2.773998e+06              2\n",
      "2  4a3ca9315b744ce9f8e9374361493884  2.711207e+06              3\n",
      "3  1f50f920176fa81dab994f9023523100  2.612281e+06              4\n",
      "4  53243585a1d6dc2643021fd1853d8905  2.564128e+06              5\n"
     ]
    }
   ],
   "source": [
    "query = \"\"\"SELECT *,\n",
    "DENSE_RANK() OVER (ORDER BY revenue DESC) AS rank_position\n",
    "FROM\n",
    "(SELECT order_items.seller_id, sum(payments.payment_value) revenue\n",
    "FROM order_items \n",
    "JOIN payments\n",
    "ON order_items.order_id = payments.order_id\n",
    "GROUP BY order_items.seller_id )\n",
    "AS subquery\n",
    "\"\"\"\n",
    "\n",
    "cur.execute(query)\n",
    "\n",
    "data = cur.fetchall()\n",
    "columns = ['seller_id', 'revenue', 'rank_position']\n",
    "df = pd.DataFrame(data, columns=columns)\n",
    "print(df.head())\n"
   ]
  },
  {
   "cell_type": "markdown",
   "id": "ce678978-bd11-40ec-aee5-275368bc42cf",
   "metadata": {},
   "source": [
    "# Calculate the moving average of order values for each customer over their order history"
   ]
  },
  {
   "cell_type": "code",
   "execution_count": 143,
   "id": "d5644abd-04ff-4a5d-afc4-d93f1805a471",
   "metadata": {},
   "outputs": [
    {
     "name": "stdout",
     "output_type": "stream",
     "text": [
      "                             customer_id   purchase_timestamp   price  \\\n",
      "0       00012a2ce6f8dcda20d059ce98491703  2017-11-14 16:08:26  114.74   \n",
      "1       00012a2ce6f8dcda20d059ce98491703  2017-11-14 16:08:26  114.74   \n",
      "2       00012a2ce6f8dcda20d059ce98491703  2017-11-14 16:08:26  114.74   \n",
      "3       00012a2ce6f8dcda20d059ce98491703  2017-11-14 16:08:26  114.74   \n",
      "4       00012a2ce6f8dcda20d059ce98491703  2017-11-14 16:08:26  114.74   \n",
      "...                                  ...                  ...     ...   \n",
      "934969  ffffe8b65bbe3087b653a978c870db99  2017-09-29 14:07:03   18.37   \n",
      "934970  ffffe8b65bbe3087b653a978c870db99  2017-09-29 14:07:03   18.37   \n",
      "934971  ffffe8b65bbe3087b653a978c870db99  2017-09-29 14:07:03   18.37   \n",
      "934972  ffffe8b65bbe3087b653a978c870db99  2017-09-29 14:07:03   18.37   \n",
      "934973  ffffe8b65bbe3087b653a978c870db99  2017-09-29 14:07:03   18.37   \n",
      "\n",
      "        moving_average  \n",
      "0           114.739998  \n",
      "1           114.739998  \n",
      "2           114.739998  \n",
      "3           114.739998  \n",
      "4           114.739998  \n",
      "...                ...  \n",
      "934969       18.370001  \n",
      "934970       18.370001  \n",
      "934971       18.370001  \n",
      "934972       18.370001  \n",
      "934973       18.370001  \n",
      "\n",
      "[934974 rows x 4 columns]\n"
     ]
    }
   ],
   "source": [
    "query = \"\"\"SELECT customer_id, order_purchase_timestamp, payment,\n",
    "AVG(payment) OVER ( PARTITION BY customer_id\n",
    "ORDER BY order_purchase_timestamp\n",
    "ROWS BETWEEN 2 PRECEDING AND CURRENT ROW) AS moving_avg \n",
    "FROM\n",
    "(SELECT orders.customer_id,orders.order_purchase_timestamp,payments.payment_value as payment\n",
    "FROM payments JOIN orders \n",
    "ON payments.order_id = orders.order_id) as a;\n",
    "\"\"\"\n",
    "\n",
    "cur.execute(query)\n",
    "\n",
    "data = cur.fetchall()\n",
    "columns = [\"customer_id\", \"purchase_timestamp\",\"price\",\"moving_average\"]\n",
    "df = pd.DataFrame(data, columns=columns)\n",
    "print(df)"
   ]
  },
  {
   "cell_type": "markdown",
   "id": "570089d5-24aa-4eb1-a602-dd712f2cb464",
   "metadata": {},
   "source": [
    "# Calculate the cumulative sales per month for each year."
   ]
  },
  {
   "cell_type": "code",
   "execution_count": 172,
   "id": "b862a51a-1158-44b9-a295-18654e4a4759",
   "metadata": {},
   "outputs": [
    {
     "data": {
      "image/png": "[encoded data removed]",
      "text/plain": [
       "<Figure size 640x480 with 1 Axes>"
      ]
     },
     "metadata": {},
     "output_type": "display_data"
    }
   ],
   "source": [
    "query = \"\"\"SELECT years, months, total_payment, sum(total_payment)\n",
    "OVER(ORDER BY  years,months) cumulative_sales\n",
    "FROM\n",
    "(SELECT YEAR(orders.order_purchase_timestamp) AS years,\n",
    "    MONTH(orders.order_purchase_timestamp) AS months,\n",
    "ROUND(SUM(payments.payment_value), 2) AS total_payment\n",
    "FROM orders \n",
    "JOIN payments\n",
    "ON orders.order_id = payments.order_id\n",
    "GROUP BY years, months \n",
    "ORDER BY years, months) AS subquery;\n",
    "\n",
    "\"\"\"\n",
    "\n",
    "cur.execute(query)\n",
    "\n",
    "data = cur.fetchall()\n",
    "columns = [\"years\", \"months\",\"total_payment\",\"cumulative_sales\"]\n",
    "df = pd.DataFrame(data, columns=columns)\n",
    "plt.bar(df[\"months\"], df[\"cumulative_sales\"])\n",
    "plt.xlabel(\"Months\")\n",
    "plt.ylabel(\"cumulative_sales\")\n",
    "plt.title(\"cumulative sales per month for each year\")\n",
    "plt.show()"
   ]
  },
  {
   "cell_type": "markdown",
   "id": "942b7afb-884c-4622-aa01-b96fdad6ea10",
   "metadata": {},
   "source": [
    "# Calculate the year-over-year growth rate of total sales."
   ]
  },
  {
   "cell_type": "code",
   "execution_count": 207,
   "id": "cbc3be11-8140-41c2-a5c8-5b7707f46955",
   "metadata": {},
   "outputs": [
    {
     "name": "stdout",
     "output_type": "stream",
     "text": [
      "   years   yoy% growth\n",
      "0   2016           NaN\n",
      "1   2017  12112.703758\n",
      "2   2018     20.000924\n"
     ]
    }
   ],
   "source": [
    "query = \"\"\"WITH a AS(SELECT YEAR(orders.order_purchase_timestamp) AS years,\n",
    "ROUND(SUM(payments.payment_value), 2) AS total_payment\n",
    "FROM orders \n",
    "JOIN payments\n",
    "ON orders.order_id = payments.order_id\n",
    "GROUP BY years \n",
    "ORDER BY years)\n",
    "\n",
    "SELECT years, ((total_payment - lag(total_payment,1) OVER(order by years) ) / \n",
    "lag(total_payment,1) over(order by years))*100\n",
    "FROM a\n",
    "\n",
    "\"\"\"\n",
    "\n",
    "cur.execute(query)\n",
    "data = cur.fetchall()\n",
    "df = pd.DataFrame(data, columns= [\"years\", \"yoy% growth\"])\n",
    "print(df)"
   ]
  },
  {
   "cell_type": "markdown",
   "id": "8f25ac93-f248-4ed1-9dec-506ed7860f53",
   "metadata": {},
   "source": [
    "# Calculate the retention rate of customers, defined as the percentage of customers who make another purchase within 6 months of their first purchase."
   ]
  },
  {
   "cell_type": "code",
   "execution_count": 216,
   "id": "21db33b8-165e-40ae-afc5-ce76a8a50d72",
   "metadata": {},
   "outputs": [
    {
     "data": {
      "text/plain": [
       "[(None,)]"
      ]
     },
     "execution_count": 216,
     "metadata": {},
     "output_type": "execute_result"
    }
   ],
   "source": [
    "query = \"\"\" WITH a AS (\n",
    "    SELECT customers.customer_id,\n",
    "           MIN(orders.order_purchase_timestamp) AS first_order\n",
    "    FROM customers \n",
    "    JOIN orders\n",
    "    ON customers.customer_id = orders.customer_id\n",
    "    GROUP BY customers.customer_id\n",
    "),\n",
    "b AS (\n",
    "    SELECT a.customer_id, \n",
    "           COUNT(DISTINCT orders.order_purchase_timestamp) AS order_count\n",
    "    FROM a \n",
    "    JOIN orders\n",
    "    ON orders.customer_id = a.customer_id\n",
    "    AND orders.order_purchase_timestamp > a.first_order\n",
    "    AND orders.order_purchase_timestamp < DATE_ADD(a.first_order, INTERVAL 6 MONTH)\n",
    "    GROUP BY a.customer_id\n",
    ")\n",
    "SELECT 100 * (COUNT(DISTINCT a.customer_id) / NULLIF(COUNT(DISTINCT b.customer_id), 0)) AS percentage\n",
    "FROM a \n",
    "LEFT JOIN b\n",
    "ON a.customer_id = b.customer_id;\n",
    "\"\"\"\n",
    "\n",
    "cur.execute(query)\n",
    "data = cur.fetchall()\n",
    "data"
   ]
  },
  {
   "cell_type": "markdown",
   "id": "5e460db9-3720-47e6-9b20-18e6dcb6f695",
   "metadata": {},
   "source": [
    "#  Identify the top 3 customers who spent the most money in each year."
   ]
  },
  {
   "cell_type": "code",
   "execution_count": 235,
   "id": "fd19b76d-a659-48c3-9cd4-7c7015bf8256",
   "metadata": {},
   "outputs": [
    {
     "data": {
      "image/png": "[encoded data removed]",
      "text/plain": [
       "<Figure size 640x480 with 1 Axes>"
      ]
     },
     "metadata": {},
     "output_type": "display_data"
    }
   ],
   "source": [
    "query = \"\"\" SELECT years, customer_id, payment, d_rank \n",
    "FROM (\n",
    "    SELECT \n",
    "        year(orders.order_purchase_timestamp) AS years,\n",
    "        orders.customer_id,\n",
    "        SUM(payments.payment_value) AS payment,\n",
    "        DENSE_RANK() OVER (PARTITION BY YEAR(orders.order_purchase_timestamp)\n",
    "                           ORDER BY SUM(payments.payment_value) DESC) AS d_rank\n",
    "    FROM orders \n",
    "    JOIN payments\n",
    "    ON payments.order_id = orders.order_id\n",
    "    GROUP BY YEAR(orders.order_purchase_timestamp), orders.customer_id\n",
    ") AS a \n",
    "WHERE d_rank <= 3;\n",
    "\"\"\"\n",
    "\n",
    "cur.execute(query)\n",
    "data = cur.fetchall()\n",
    "df = pd.DataFrame(data, columns = [\"years\",\"id\", \"payment\", \"rank\"])\n",
    "sns.barplot(data = df, x = \"id\", y = \"payment\", hue = \"years\")\n",
    "plt.xticks(rotation = 90)\n",
    "plt.show()"
   ]
  },
  {
   "cell_type": "code",
   "execution_count": null,
   "id": "53bc54bf-1e85-481a-b4fe-5539518df2db",
   "metadata": {},
   "outputs": [],
   "source": []
  }
 ],
 "metadata": {
  "kernelspec": {
   "display_name": "Python 3 (ipykernel)",
   "language": "python",
   "name": "python3"
  },
  "language_info": {
   "codemirror_mode": {
    "name": "ipython",
    "version": 3
   },
   "file_extension": ".py",
   "mimetype": "text/x-python",
   "name": "python",
   "nbconvert_exporter": "python",
   "pygments_lexer": "ipython3",
   "version": "3.12.7"
  }
 },
 "nbformat": 4,
 "nbformat_minor": 5
}
